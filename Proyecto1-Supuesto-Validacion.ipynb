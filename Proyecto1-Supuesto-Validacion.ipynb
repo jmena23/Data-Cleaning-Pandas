{
 "cells": [
  {
   "cell_type": "markdown",
   "metadata": {},
   "source": [
    "# SUPUESTO : los tiburones atacan más a los hombres adultos( de 20 a 40 años) haciendo actividades acuáticas, tales como, surfing, body board, buceo, paddle o natación.\n"
   ]
  },
  {
   "cell_type": "code",
   "execution_count": 3,
   "metadata": {},
   "outputs": [],
   "source": [
    "import pandas as pd\n",
    "import matplotlib.pyplot as plt"
   ]
  },
  {
   "cell_type": "code",
   "execution_count": 4,
   "metadata": {},
   "outputs": [],
   "source": [
    "df = pd.read_csv(\"output/df_sharks_limpito.csv\")"
   ]
  },
  {
   "cell_type": "code",
   "execution_count": 5,
   "metadata": {},
   "outputs": [
    {
     "data": {
      "text/html": [
       "<div>\n",
       "<style scoped>\n",
       "    .dataframe tbody tr th:only-of-type {\n",
       "        vertical-align: middle;\n",
       "    }\n",
       "\n",
       "    .dataframe tbody tr th {\n",
       "        vertical-align: top;\n",
       "    }\n",
       "\n",
       "    .dataframe thead th {\n",
       "        text-align: right;\n",
       "    }\n",
       "</style>\n",
       "<table border=\"1\" class=\"dataframe\">\n",
       "  <thead>\n",
       "    <tr style=\"text-align: right;\">\n",
       "      <th></th>\n",
       "      <th>Genre</th>\n",
       "      <th>Active</th>\n",
       "      <th>edad_representativa</th>\n",
       "    </tr>\n",
       "  </thead>\n",
       "  <tbody>\n",
       "    <tr>\n",
       "      <th>0</th>\n",
       "      <td>F</td>\n",
       "      <td>IN WATER</td>\n",
       "      <td>MEDIANA EDAD</td>\n",
       "    </tr>\n",
       "    <tr>\n",
       "      <th>1</th>\n",
       "      <td>F</td>\n",
       "      <td>OTHER</td>\n",
       "      <td>JOVEN</td>\n",
       "    </tr>\n",
       "    <tr>\n",
       "      <th>2</th>\n",
       "      <td>M</td>\n",
       "      <td>IN WATER</td>\n",
       "      <td>MEDIANA EDAD</td>\n",
       "    </tr>\n",
       "    <tr>\n",
       "      <th>3</th>\n",
       "      <td>M</td>\n",
       "      <td>IN WATER</td>\n",
       "      <td>JOVEN</td>\n",
       "    </tr>\n",
       "    <tr>\n",
       "      <th>4</th>\n",
       "      <td>M</td>\n",
       "      <td>OTHER</td>\n",
       "      <td>MEDIANA EDAD</td>\n",
       "    </tr>\n",
       "    <tr>\n",
       "      <th>5</th>\n",
       "      <td>M</td>\n",
       "      <td>OTHER</td>\n",
       "      <td>JOVEN</td>\n",
       "    </tr>\n",
       "    <tr>\n",
       "      <th>6</th>\n",
       "      <td>M</td>\n",
       "      <td>OTHER</td>\n",
       "      <td>JOVEN</td>\n",
       "    </tr>\n",
       "    <tr>\n",
       "      <th>7</th>\n",
       "      <td>M</td>\n",
       "      <td>OTHER</td>\n",
       "      <td>ADULTO</td>\n",
       "    </tr>\n",
       "    <tr>\n",
       "      <th>8</th>\n",
       "      <td>M</td>\n",
       "      <td>IN WATER</td>\n",
       "      <td>JOVEN</td>\n",
       "    </tr>\n",
       "    <tr>\n",
       "      <th>9</th>\n",
       "      <td>M</td>\n",
       "      <td>IN WATER</td>\n",
       "      <td>JOVEN</td>\n",
       "    </tr>\n",
       "    <tr>\n",
       "      <th>10</th>\n",
       "      <td>M</td>\n",
       "      <td>OTHER</td>\n",
       "      <td>ADULTO</td>\n",
       "    </tr>\n",
       "    <tr>\n",
       "      <th>11</th>\n",
       "      <td>F</td>\n",
       "      <td>OTHER</td>\n",
       "      <td>ADULTO</td>\n",
       "    </tr>\n",
       "    <tr>\n",
       "      <th>12</th>\n",
       "      <td>M</td>\n",
       "      <td>IN WATER</td>\n",
       "      <td>ADULTO</td>\n",
       "    </tr>\n",
       "    <tr>\n",
       "      <th>13</th>\n",
       "      <td>M</td>\n",
       "      <td>IN WATER</td>\n",
       "      <td>AVANZADA EDAD</td>\n",
       "    </tr>\n",
       "    <tr>\n",
       "      <th>14</th>\n",
       "      <td>M</td>\n",
       "      <td>OTHER</td>\n",
       "      <td>ADULTO</td>\n",
       "    </tr>\n",
       "    <tr>\n",
       "      <th>15</th>\n",
       "      <td>M</td>\n",
       "      <td>IN WATER</td>\n",
       "      <td>ADULTO</td>\n",
       "    </tr>\n",
       "    <tr>\n",
       "      <th>16</th>\n",
       "      <td>M</td>\n",
       "      <td>IN WATER</td>\n",
       "      <td>ADULTO</td>\n",
       "    </tr>\n",
       "    <tr>\n",
       "      <th>17</th>\n",
       "      <td>M</td>\n",
       "      <td>IN WATER</td>\n",
       "      <td>MEDIANA EDAD</td>\n",
       "    </tr>\n",
       "    <tr>\n",
       "      <th>18</th>\n",
       "      <td>M</td>\n",
       "      <td>IN WATER</td>\n",
       "      <td>ADULTO</td>\n",
       "    </tr>\n",
       "    <tr>\n",
       "      <th>19</th>\n",
       "      <td>M</td>\n",
       "      <td>IN WATER</td>\n",
       "      <td>MEDIANA EDAD</td>\n",
       "    </tr>\n",
       "    <tr>\n",
       "      <th>20</th>\n",
       "      <td>M</td>\n",
       "      <td>IN WATER</td>\n",
       "      <td>ADULTO</td>\n",
       "    </tr>\n",
       "    <tr>\n",
       "      <th>21</th>\n",
       "      <td>M</td>\n",
       "      <td>OTHER</td>\n",
       "      <td>MEDIANA EDAD</td>\n",
       "    </tr>\n",
       "    <tr>\n",
       "      <th>22</th>\n",
       "      <td>M</td>\n",
       "      <td>IN WATER</td>\n",
       "      <td>JOVEN</td>\n",
       "    </tr>\n",
       "    <tr>\n",
       "      <th>23</th>\n",
       "      <td>M</td>\n",
       "      <td>IN WATER</td>\n",
       "      <td>JOVEN</td>\n",
       "    </tr>\n",
       "    <tr>\n",
       "      <th>24</th>\n",
       "      <td>M</td>\n",
       "      <td>IN WATER</td>\n",
       "      <td>ADULTO</td>\n",
       "    </tr>\n",
       "  </tbody>\n",
       "</table>\n",
       "</div>"
      ],
      "text/plain": [
       "   Genre    Active edad_representativa\n",
       "0      F  IN WATER        MEDIANA EDAD\n",
       "1      F     OTHER               JOVEN\n",
       "2      M  IN WATER        MEDIANA EDAD\n",
       "3      M  IN WATER               JOVEN\n",
       "4      M     OTHER        MEDIANA EDAD\n",
       "5      M     OTHER               JOVEN\n",
       "6      M     OTHER               JOVEN\n",
       "7      M     OTHER              ADULTO\n",
       "8      M  IN WATER               JOVEN\n",
       "9      M  IN WATER               JOVEN\n",
       "10     M     OTHER              ADULTO\n",
       "11     F     OTHER              ADULTO\n",
       "12     M  IN WATER              ADULTO\n",
       "13     M  IN WATER       AVANZADA EDAD\n",
       "14     M     OTHER              ADULTO\n",
       "15     M  IN WATER              ADULTO\n",
       "16     M  IN WATER              ADULTO\n",
       "17     M  IN WATER        MEDIANA EDAD\n",
       "18     M  IN WATER              ADULTO\n",
       "19     M  IN WATER        MEDIANA EDAD\n",
       "20     M  IN WATER              ADULTO\n",
       "21     M     OTHER        MEDIANA EDAD\n",
       "22     M  IN WATER               JOVEN\n",
       "23     M  IN WATER               JOVEN\n",
       "24     M  IN WATER              ADULTO"
      ]
     },
     "execution_count": 5,
     "metadata": {},
     "output_type": "execute_result"
    }
   ],
   "source": [
    "df.head(25)"
   ]
  },
  {
   "cell_type": "code",
   "execution_count": 6,
   "metadata": {},
   "outputs": [
    {
     "data": {
      "text/plain": [
       "(3293, 3)"
      ]
     },
     "execution_count": 6,
     "metadata": {},
     "output_type": "execute_result"
    }
   ],
   "source": [
    "df.shape"
   ]
  },
  {
   "cell_type": "code",
   "execution_count": 7,
   "metadata": {},
   "outputs": [],
   "source": [
    "df.columns = [\"Genero\", \"Actividad\", \"Rango_edad\"]"
   ]
  },
  {
   "cell_type": "code",
   "execution_count": 8,
   "metadata": {},
   "outputs": [],
   "source": [
    "analysis1 = df.groupby([\"Rango_edad\",\"Actividad\", \"Genero\"]).Genero.count()"
   ]
  },
  {
   "cell_type": "code",
   "execution_count": 9,
   "metadata": {},
   "outputs": [
    {
     "data": {
      "text/plain": [
       "Rango_edad     Actividad  Genero\n",
       "ADULTO         IN WATER   F          80\n",
       "                          M         864\n",
       "               OTHER      F          72\n",
       "                          M         493\n",
       "ANCIANO        IN WATER   F           9\n",
       "                          M          27\n",
       "               OTHER      F          11\n",
       "                          M          20\n",
       "AVANZADA EDAD  IN WATER   F          18\n",
       "                          M          52\n",
       "               OTHER      F          21\n",
       "                          M          42\n",
       "JOVEN          IN WATER   F          93\n",
       "                          M         619\n",
       "               OTHER      F          67\n",
       "                          M         263\n",
       "MEDIANA EDAD   IN WATER   F          40\n",
       "                          M         290\n",
       "               OTHER      F          33\n",
       "                          M         179\n",
       "Name: Genero, dtype: int64"
      ]
     },
     "execution_count": 9,
     "metadata": {},
     "output_type": "execute_result"
    }
   ],
   "source": [
    "analysis1"
   ]
  },
  {
   "cell_type": "code",
   "execution_count": 10,
   "metadata": {},
   "outputs": [],
   "source": [
    "df[\"Rango_mejorado\"] = df.Rango_edad.apply(lambda x: \"FUERA DE RANGO\" if x != \"ADULTO\" else \"ADULTO\")"
   ]
  },
  {
   "cell_type": "code",
   "execution_count": 11,
   "metadata": {},
   "outputs": [
    {
     "data": {
      "text/html": [
       "<div>\n",
       "<style scoped>\n",
       "    .dataframe tbody tr th:only-of-type {\n",
       "        vertical-align: middle;\n",
       "    }\n",
       "\n",
       "    .dataframe tbody tr th {\n",
       "        vertical-align: top;\n",
       "    }\n",
       "\n",
       "    .dataframe thead th {\n",
       "        text-align: right;\n",
       "    }\n",
       "</style>\n",
       "<table border=\"1\" class=\"dataframe\">\n",
       "  <thead>\n",
       "    <tr style=\"text-align: right;\">\n",
       "      <th></th>\n",
       "      <th>Genero</th>\n",
       "      <th>Actividad</th>\n",
       "      <th>Rango_edad</th>\n",
       "      <th>Rango_mejorado</th>\n",
       "    </tr>\n",
       "  </thead>\n",
       "  <tbody>\n",
       "    <tr>\n",
       "      <th>0</th>\n",
       "      <td>F</td>\n",
       "      <td>IN WATER</td>\n",
       "      <td>MEDIANA EDAD</td>\n",
       "      <td>FUERA DE RANGO</td>\n",
       "    </tr>\n",
       "    <tr>\n",
       "      <th>1</th>\n",
       "      <td>F</td>\n",
       "      <td>OTHER</td>\n",
       "      <td>JOVEN</td>\n",
       "      <td>FUERA DE RANGO</td>\n",
       "    </tr>\n",
       "    <tr>\n",
       "      <th>2</th>\n",
       "      <td>M</td>\n",
       "      <td>IN WATER</td>\n",
       "      <td>MEDIANA EDAD</td>\n",
       "      <td>FUERA DE RANGO</td>\n",
       "    </tr>\n",
       "    <tr>\n",
       "      <th>3</th>\n",
       "      <td>M</td>\n",
       "      <td>IN WATER</td>\n",
       "      <td>JOVEN</td>\n",
       "      <td>FUERA DE RANGO</td>\n",
       "    </tr>\n",
       "    <tr>\n",
       "      <th>4</th>\n",
       "      <td>M</td>\n",
       "      <td>OTHER</td>\n",
       "      <td>MEDIANA EDAD</td>\n",
       "      <td>FUERA DE RANGO</td>\n",
       "    </tr>\n",
       "    <tr>\n",
       "      <th>5</th>\n",
       "      <td>M</td>\n",
       "      <td>OTHER</td>\n",
       "      <td>JOVEN</td>\n",
       "      <td>FUERA DE RANGO</td>\n",
       "    </tr>\n",
       "    <tr>\n",
       "      <th>6</th>\n",
       "      <td>M</td>\n",
       "      <td>OTHER</td>\n",
       "      <td>JOVEN</td>\n",
       "      <td>FUERA DE RANGO</td>\n",
       "    </tr>\n",
       "    <tr>\n",
       "      <th>7</th>\n",
       "      <td>M</td>\n",
       "      <td>OTHER</td>\n",
       "      <td>ADULTO</td>\n",
       "      <td>ADULTO</td>\n",
       "    </tr>\n",
       "    <tr>\n",
       "      <th>8</th>\n",
       "      <td>M</td>\n",
       "      <td>IN WATER</td>\n",
       "      <td>JOVEN</td>\n",
       "      <td>FUERA DE RANGO</td>\n",
       "    </tr>\n",
       "    <tr>\n",
       "      <th>9</th>\n",
       "      <td>M</td>\n",
       "      <td>IN WATER</td>\n",
       "      <td>JOVEN</td>\n",
       "      <td>FUERA DE RANGO</td>\n",
       "    </tr>\n",
       "    <tr>\n",
       "      <th>10</th>\n",
       "      <td>M</td>\n",
       "      <td>OTHER</td>\n",
       "      <td>ADULTO</td>\n",
       "      <td>ADULTO</td>\n",
       "    </tr>\n",
       "    <tr>\n",
       "      <th>11</th>\n",
       "      <td>F</td>\n",
       "      <td>OTHER</td>\n",
       "      <td>ADULTO</td>\n",
       "      <td>ADULTO</td>\n",
       "    </tr>\n",
       "    <tr>\n",
       "      <th>12</th>\n",
       "      <td>M</td>\n",
       "      <td>IN WATER</td>\n",
       "      <td>ADULTO</td>\n",
       "      <td>ADULTO</td>\n",
       "    </tr>\n",
       "    <tr>\n",
       "      <th>13</th>\n",
       "      <td>M</td>\n",
       "      <td>IN WATER</td>\n",
       "      <td>AVANZADA EDAD</td>\n",
       "      <td>FUERA DE RANGO</td>\n",
       "    </tr>\n",
       "    <tr>\n",
       "      <th>14</th>\n",
       "      <td>M</td>\n",
       "      <td>OTHER</td>\n",
       "      <td>ADULTO</td>\n",
       "      <td>ADULTO</td>\n",
       "    </tr>\n",
       "    <tr>\n",
       "      <th>15</th>\n",
       "      <td>M</td>\n",
       "      <td>IN WATER</td>\n",
       "      <td>ADULTO</td>\n",
       "      <td>ADULTO</td>\n",
       "    </tr>\n",
       "    <tr>\n",
       "      <th>16</th>\n",
       "      <td>M</td>\n",
       "      <td>IN WATER</td>\n",
       "      <td>ADULTO</td>\n",
       "      <td>ADULTO</td>\n",
       "    </tr>\n",
       "    <tr>\n",
       "      <th>17</th>\n",
       "      <td>M</td>\n",
       "      <td>IN WATER</td>\n",
       "      <td>MEDIANA EDAD</td>\n",
       "      <td>FUERA DE RANGO</td>\n",
       "    </tr>\n",
       "    <tr>\n",
       "      <th>18</th>\n",
       "      <td>M</td>\n",
       "      <td>IN WATER</td>\n",
       "      <td>ADULTO</td>\n",
       "      <td>ADULTO</td>\n",
       "    </tr>\n",
       "    <tr>\n",
       "      <th>19</th>\n",
       "      <td>M</td>\n",
       "      <td>IN WATER</td>\n",
       "      <td>MEDIANA EDAD</td>\n",
       "      <td>FUERA DE RANGO</td>\n",
       "    </tr>\n",
       "    <tr>\n",
       "      <th>20</th>\n",
       "      <td>M</td>\n",
       "      <td>IN WATER</td>\n",
       "      <td>ADULTO</td>\n",
       "      <td>ADULTO</td>\n",
       "    </tr>\n",
       "    <tr>\n",
       "      <th>21</th>\n",
       "      <td>M</td>\n",
       "      <td>OTHER</td>\n",
       "      <td>MEDIANA EDAD</td>\n",
       "      <td>FUERA DE RANGO</td>\n",
       "    </tr>\n",
       "    <tr>\n",
       "      <th>22</th>\n",
       "      <td>M</td>\n",
       "      <td>IN WATER</td>\n",
       "      <td>JOVEN</td>\n",
       "      <td>FUERA DE RANGO</td>\n",
       "    </tr>\n",
       "    <tr>\n",
       "      <th>23</th>\n",
       "      <td>M</td>\n",
       "      <td>IN WATER</td>\n",
       "      <td>JOVEN</td>\n",
       "      <td>FUERA DE RANGO</td>\n",
       "    </tr>\n",
       "    <tr>\n",
       "      <th>24</th>\n",
       "      <td>M</td>\n",
       "      <td>IN WATER</td>\n",
       "      <td>ADULTO</td>\n",
       "      <td>ADULTO</td>\n",
       "    </tr>\n",
       "  </tbody>\n",
       "</table>\n",
       "</div>"
      ],
      "text/plain": [
       "   Genero Actividad     Rango_edad  Rango_mejorado\n",
       "0       F  IN WATER   MEDIANA EDAD  FUERA DE RANGO\n",
       "1       F     OTHER          JOVEN  FUERA DE RANGO\n",
       "2       M  IN WATER   MEDIANA EDAD  FUERA DE RANGO\n",
       "3       M  IN WATER          JOVEN  FUERA DE RANGO\n",
       "4       M     OTHER   MEDIANA EDAD  FUERA DE RANGO\n",
       "5       M     OTHER          JOVEN  FUERA DE RANGO\n",
       "6       M     OTHER          JOVEN  FUERA DE RANGO\n",
       "7       M     OTHER         ADULTO          ADULTO\n",
       "8       M  IN WATER          JOVEN  FUERA DE RANGO\n",
       "9       M  IN WATER          JOVEN  FUERA DE RANGO\n",
       "10      M     OTHER         ADULTO          ADULTO\n",
       "11      F     OTHER         ADULTO          ADULTO\n",
       "12      M  IN WATER         ADULTO          ADULTO\n",
       "13      M  IN WATER  AVANZADA EDAD  FUERA DE RANGO\n",
       "14      M     OTHER         ADULTO          ADULTO\n",
       "15      M  IN WATER         ADULTO          ADULTO\n",
       "16      M  IN WATER         ADULTO          ADULTO\n",
       "17      M  IN WATER   MEDIANA EDAD  FUERA DE RANGO\n",
       "18      M  IN WATER         ADULTO          ADULTO\n",
       "19      M  IN WATER   MEDIANA EDAD  FUERA DE RANGO\n",
       "20      M  IN WATER         ADULTO          ADULTO\n",
       "21      M     OTHER   MEDIANA EDAD  FUERA DE RANGO\n",
       "22      M  IN WATER          JOVEN  FUERA DE RANGO\n",
       "23      M  IN WATER          JOVEN  FUERA DE RANGO\n",
       "24      M  IN WATER         ADULTO          ADULTO"
      ]
     },
     "execution_count": 11,
     "metadata": {},
     "output_type": "execute_result"
    }
   ],
   "source": [
    "df.head(25)"
   ]
  },
  {
   "cell_type": "code",
   "execution_count": 12,
   "metadata": {},
   "outputs": [],
   "source": [
    "analysis2 = df.groupby([\"Rango_mejorado\",\"Actividad\", \"Genero\"]).Genero.count()"
   ]
  },
  {
   "cell_type": "code",
   "execution_count": 13,
   "metadata": {},
   "outputs": [
    {
     "data": {
      "text/plain": [
       "Rango_mejorado  Actividad  Genero\n",
       "ADULTO          IN WATER   F          80\n",
       "                           M         864\n",
       "                OTHER      F          72\n",
       "                           M         493\n",
       "FUERA DE RANGO  IN WATER   F         160\n",
       "                           M         988\n",
       "                OTHER      F         132\n",
       "                           M         504\n",
       "Name: Genero, dtype: int64"
      ]
     },
     "execution_count": 13,
     "metadata": {},
     "output_type": "execute_result"
    }
   ],
   "source": [
    "analysis2"
   ]
  },
  {
   "cell_type": "code",
   "execution_count": 132,
   "metadata": {},
   "outputs": [
    {
     "data": {
      "image/png": "[encoded data removed]",
      "text/plain": [
       "<Figure size 360x360 with 1 Axes>"
      ]
     },
     "metadata": {},
     "output_type": "display_data"
    }
   ],
   "source": [
    "labels = [\"AD-WATER-F\", \"AD-WATER-M\",\"AD-OTHER-F\",\"AD-OTHER-M\",\"F.RANGO-WATER-F\",\"F.RANGO-WATER-M\",\"F.RANGO-OTHER-F\",\"F.RANGO-OTHER-M\"]\n",
    "explode = (0, 0.3, 0, 0, 0, 0, 0, 0)\n",
    "fig = plt.subplots(figsize=(5, 5))\n",
    "plt.pie(analysis2, labels = labels, autopct = \"%0.1f %%\", radius = 2, explode = explode)\n",
    "plt.suptitle(\"SUPUESTO 1\", y = 1.3, fontsize = 16)\n",
    "plt.savefig(\"output/Supuesto1.png\", bbox_inches = 'tight')\n",
    "plt.show()"
   ]
  },
  {
   "cell_type": "markdown",
   "metadata": {},
   "source": [
    "- Nuestro supuesto no se cumple con rotundidad ya que como podemos ver en el gráfico, sólo el 26,2% de los casos corresponden a hombres de entre 20 y 40 años realizando actividades dentro del agua."
   ]
  },
  {
   "cell_type": "markdown",
   "metadata": {},
   "source": [
    "## Vemos en el gráfico que la mayoría de los ataques se realizan a hombres practicando actividades en el agua por lo que realizamos otro supuesto con un rango de edad mayor pasando de ( 20 - 40) a (0 - 40). Incluimos la población joven."
   ]
  },
  {
   "cell_type": "code",
   "execution_count": 15,
   "metadata": {},
   "outputs": [],
   "source": [
    "df[\"Rango_mejorado2\"] = df.Rango_edad.apply(lambda x: \"ADULTO\" if x == \"ADULTO\" or x == \"JOVEN\" else \"FUERA DE RANGO\")"
   ]
  },
  {
   "cell_type": "code",
   "execution_count": 16,
   "metadata": {},
   "outputs": [
    {
     "data": {
      "text/html": [
       "<div>\n",
       "<style scoped>\n",
       "    .dataframe tbody tr th:only-of-type {\n",
       "        vertical-align: middle;\n",
       "    }\n",
       "\n",
       "    .dataframe tbody tr th {\n",
       "        vertical-align: top;\n",
       "    }\n",
       "\n",
       "    .dataframe thead th {\n",
       "        text-align: right;\n",
       "    }\n",
       "</style>\n",
       "<table border=\"1\" class=\"dataframe\">\n",
       "  <thead>\n",
       "    <tr style=\"text-align: right;\">\n",
       "      <th></th>\n",
       "      <th>Genero</th>\n",
       "      <th>Actividad</th>\n",
       "      <th>Rango_edad</th>\n",
       "      <th>Rango_mejorado</th>\n",
       "      <th>Rango_mejorado2</th>\n",
       "    </tr>\n",
       "  </thead>\n",
       "  <tbody>\n",
       "    <tr>\n",
       "      <th>0</th>\n",
       "      <td>F</td>\n",
       "      <td>IN WATER</td>\n",
       "      <td>MEDIANA EDAD</td>\n",
       "      <td>FUERA DE RANGO</td>\n",
       "      <td>FUERA DE RANGO</td>\n",
       "    </tr>\n",
       "    <tr>\n",
       "      <th>1</th>\n",
       "      <td>F</td>\n",
       "      <td>OTHER</td>\n",
       "      <td>JOVEN</td>\n",
       "      <td>FUERA DE RANGO</td>\n",
       "      <td>ADULTO</td>\n",
       "    </tr>\n",
       "    <tr>\n",
       "      <th>2</th>\n",
       "      <td>M</td>\n",
       "      <td>IN WATER</td>\n",
       "      <td>MEDIANA EDAD</td>\n",
       "      <td>FUERA DE RANGO</td>\n",
       "      <td>FUERA DE RANGO</td>\n",
       "    </tr>\n",
       "    <tr>\n",
       "      <th>3</th>\n",
       "      <td>M</td>\n",
       "      <td>IN WATER</td>\n",
       "      <td>JOVEN</td>\n",
       "      <td>FUERA DE RANGO</td>\n",
       "      <td>ADULTO</td>\n",
       "    </tr>\n",
       "    <tr>\n",
       "      <th>4</th>\n",
       "      <td>M</td>\n",
       "      <td>OTHER</td>\n",
       "      <td>MEDIANA EDAD</td>\n",
       "      <td>FUERA DE RANGO</td>\n",
       "      <td>FUERA DE RANGO</td>\n",
       "    </tr>\n",
       "    <tr>\n",
       "      <th>5</th>\n",
       "      <td>M</td>\n",
       "      <td>OTHER</td>\n",
       "      <td>JOVEN</td>\n",
       "      <td>FUERA DE RANGO</td>\n",
       "      <td>ADULTO</td>\n",
       "    </tr>\n",
       "    <tr>\n",
       "      <th>6</th>\n",
       "      <td>M</td>\n",
       "      <td>OTHER</td>\n",
       "      <td>JOVEN</td>\n",
       "      <td>FUERA DE RANGO</td>\n",
       "      <td>ADULTO</td>\n",
       "    </tr>\n",
       "    <tr>\n",
       "      <th>7</th>\n",
       "      <td>M</td>\n",
       "      <td>OTHER</td>\n",
       "      <td>ADULTO</td>\n",
       "      <td>ADULTO</td>\n",
       "      <td>ADULTO</td>\n",
       "    </tr>\n",
       "    <tr>\n",
       "      <th>8</th>\n",
       "      <td>M</td>\n",
       "      <td>IN WATER</td>\n",
       "      <td>JOVEN</td>\n",
       "      <td>FUERA DE RANGO</td>\n",
       "      <td>ADULTO</td>\n",
       "    </tr>\n",
       "    <tr>\n",
       "      <th>9</th>\n",
       "      <td>M</td>\n",
       "      <td>IN WATER</td>\n",
       "      <td>JOVEN</td>\n",
       "      <td>FUERA DE RANGO</td>\n",
       "      <td>ADULTO</td>\n",
       "    </tr>\n",
       "    <tr>\n",
       "      <th>10</th>\n",
       "      <td>M</td>\n",
       "      <td>OTHER</td>\n",
       "      <td>ADULTO</td>\n",
       "      <td>ADULTO</td>\n",
       "      <td>ADULTO</td>\n",
       "    </tr>\n",
       "    <tr>\n",
       "      <th>11</th>\n",
       "      <td>F</td>\n",
       "      <td>OTHER</td>\n",
       "      <td>ADULTO</td>\n",
       "      <td>ADULTO</td>\n",
       "      <td>ADULTO</td>\n",
       "    </tr>\n",
       "    <tr>\n",
       "      <th>12</th>\n",
       "      <td>M</td>\n",
       "      <td>IN WATER</td>\n",
       "      <td>ADULTO</td>\n",
       "      <td>ADULTO</td>\n",
       "      <td>ADULTO</td>\n",
       "    </tr>\n",
       "    <tr>\n",
       "      <th>13</th>\n",
       "      <td>M</td>\n",
       "      <td>IN WATER</td>\n",
       "      <td>AVANZADA EDAD</td>\n",
       "      <td>FUERA DE RANGO</td>\n",
       "      <td>FUERA DE RANGO</td>\n",
       "    </tr>\n",
       "    <tr>\n",
       "      <th>14</th>\n",
       "      <td>M</td>\n",
       "      <td>OTHER</td>\n",
       "      <td>ADULTO</td>\n",
       "      <td>ADULTO</td>\n",
       "      <td>ADULTO</td>\n",
       "    </tr>\n",
       "    <tr>\n",
       "      <th>15</th>\n",
       "      <td>M</td>\n",
       "      <td>IN WATER</td>\n",
       "      <td>ADULTO</td>\n",
       "      <td>ADULTO</td>\n",
       "      <td>ADULTO</td>\n",
       "    </tr>\n",
       "    <tr>\n",
       "      <th>16</th>\n",
       "      <td>M</td>\n",
       "      <td>IN WATER</td>\n",
       "      <td>ADULTO</td>\n",
       "      <td>ADULTO</td>\n",
       "      <td>ADULTO</td>\n",
       "    </tr>\n",
       "    <tr>\n",
       "      <th>17</th>\n",
       "      <td>M</td>\n",
       "      <td>IN WATER</td>\n",
       "      <td>MEDIANA EDAD</td>\n",
       "      <td>FUERA DE RANGO</td>\n",
       "      <td>FUERA DE RANGO</td>\n",
       "    </tr>\n",
       "    <tr>\n",
       "      <th>18</th>\n",
       "      <td>M</td>\n",
       "      <td>IN WATER</td>\n",
       "      <td>ADULTO</td>\n",
       "      <td>ADULTO</td>\n",
       "      <td>ADULTO</td>\n",
       "    </tr>\n",
       "    <tr>\n",
       "      <th>19</th>\n",
       "      <td>M</td>\n",
       "      <td>IN WATER</td>\n",
       "      <td>MEDIANA EDAD</td>\n",
       "      <td>FUERA DE RANGO</td>\n",
       "      <td>FUERA DE RANGO</td>\n",
       "    </tr>\n",
       "    <tr>\n",
       "      <th>20</th>\n",
       "      <td>M</td>\n",
       "      <td>IN WATER</td>\n",
       "      <td>ADULTO</td>\n",
       "      <td>ADULTO</td>\n",
       "      <td>ADULTO</td>\n",
       "    </tr>\n",
       "    <tr>\n",
       "      <th>21</th>\n",
       "      <td>M</td>\n",
       "      <td>OTHER</td>\n",
       "      <td>MEDIANA EDAD</td>\n",
       "      <td>FUERA DE RANGO</td>\n",
       "      <td>FUERA DE RANGO</td>\n",
       "    </tr>\n",
       "    <tr>\n",
       "      <th>22</th>\n",
       "      <td>M</td>\n",
       "      <td>IN WATER</td>\n",
       "      <td>JOVEN</td>\n",
       "      <td>FUERA DE RANGO</td>\n",
       "      <td>ADULTO</td>\n",
       "    </tr>\n",
       "    <tr>\n",
       "      <th>23</th>\n",
       "      <td>M</td>\n",
       "      <td>IN WATER</td>\n",
       "      <td>JOVEN</td>\n",
       "      <td>FUERA DE RANGO</td>\n",
       "      <td>ADULTO</td>\n",
       "    </tr>\n",
       "    <tr>\n",
       "      <th>24</th>\n",
       "      <td>M</td>\n",
       "      <td>IN WATER</td>\n",
       "      <td>ADULTO</td>\n",
       "      <td>ADULTO</td>\n",
       "      <td>ADULTO</td>\n",
       "    </tr>\n",
       "  </tbody>\n",
       "</table>\n",
       "</div>"
      ],
      "text/plain": [
       "   Genero Actividad     Rango_edad  Rango_mejorado Rango_mejorado2\n",
       "0       F  IN WATER   MEDIANA EDAD  FUERA DE RANGO  FUERA DE RANGO\n",
       "1       F     OTHER          JOVEN  FUERA DE RANGO          ADULTO\n",
       "2       M  IN WATER   MEDIANA EDAD  FUERA DE RANGO  FUERA DE RANGO\n",
       "3       M  IN WATER          JOVEN  FUERA DE RANGO          ADULTO\n",
       "4       M     OTHER   MEDIANA EDAD  FUERA DE RANGO  FUERA DE RANGO\n",
       "5       M     OTHER          JOVEN  FUERA DE RANGO          ADULTO\n",
       "6       M     OTHER          JOVEN  FUERA DE RANGO          ADULTO\n",
       "7       M     OTHER         ADULTO          ADULTO          ADULTO\n",
       "8       M  IN WATER          JOVEN  FUERA DE RANGO          ADULTO\n",
       "9       M  IN WATER          JOVEN  FUERA DE RANGO          ADULTO\n",
       "10      M     OTHER         ADULTO          ADULTO          ADULTO\n",
       "11      F     OTHER         ADULTO          ADULTO          ADULTO\n",
       "12      M  IN WATER         ADULTO          ADULTO          ADULTO\n",
       "13      M  IN WATER  AVANZADA EDAD  FUERA DE RANGO  FUERA DE RANGO\n",
       "14      M     OTHER         ADULTO          ADULTO          ADULTO\n",
       "15      M  IN WATER         ADULTO          ADULTO          ADULTO\n",
       "16      M  IN WATER         ADULTO          ADULTO          ADULTO\n",
       "17      M  IN WATER   MEDIANA EDAD  FUERA DE RANGO  FUERA DE RANGO\n",
       "18      M  IN WATER         ADULTO          ADULTO          ADULTO\n",
       "19      M  IN WATER   MEDIANA EDAD  FUERA DE RANGO  FUERA DE RANGO\n",
       "20      M  IN WATER         ADULTO          ADULTO          ADULTO\n",
       "21      M     OTHER   MEDIANA EDAD  FUERA DE RANGO  FUERA DE RANGO\n",
       "22      M  IN WATER          JOVEN  FUERA DE RANGO          ADULTO\n",
       "23      M  IN WATER          JOVEN  FUERA DE RANGO          ADULTO\n",
       "24      M  IN WATER         ADULTO          ADULTO          ADULTO"
      ]
     },
     "execution_count": 16,
     "metadata": {},
     "output_type": "execute_result"
    }
   ],
   "source": [
    "df.head(25)"
   ]
  },
  {
   "cell_type": "code",
   "execution_count": 17,
   "metadata": {},
   "outputs": [],
   "source": [
    "analysis3 = df.groupby([\"Rango_mejorado2\",\"Actividad\", \"Genero\"]).Genero.count()"
   ]
  },
  {
   "cell_type": "code",
   "execution_count": 18,
   "metadata": {},
   "outputs": [
    {
     "data": {
      "text/plain": [
       "Rango_mejorado2  Actividad  Genero\n",
       "ADULTO           IN WATER   F          173\n",
       "                            M         1483\n",
       "                 OTHER      F          139\n",
       "                            M          756\n",
       "FUERA DE RANGO   IN WATER   F           67\n",
       "                            M          369\n",
       "                 OTHER      F           65\n",
       "                            M          241\n",
       "Name: Genero, dtype: int64"
      ]
     },
     "execution_count": 18,
     "metadata": {},
     "output_type": "execute_result"
    }
   ],
   "source": [
    "analysis3"
   ]
  },
  {
   "cell_type": "code",
   "execution_count": 131,
   "metadata": {},
   "outputs": [
    {
     "data": {
      "image/png": "[encoded data removed]",
      "text/plain": [
       "<Figure size 360x360 with 1 Axes>"
      ]
     },
     "metadata": {},
     "output_type": "display_data"
    }
   ],
   "source": [
    "labels = [\"AD-WATER-F\", \"AD-WATER-M\",\"AD-OTHER-F\",\"AD-OTHER-M\",\"F.RANGO-WATER-F\",\"F.RANGO-WATER-M\",\"F.RANGO-OTHER-F\",\"F.RANGO-OTHER-M\"]\n",
    "explode = (0, 0.3, 0, 0, 0, 0, 0, 0)\n",
    "fig = plt.subplots(figsize=(5, 5))\n",
    "plt.pie(analysis3, labels = labels, autopct=\"%0.1f %%\", radius = 2, explode = explode)\n",
    "plt.suptitle(\"SUPUESTO 1 AMPLIADO\", y = 1.35, fontsize = 16)\n",
    "plt.savefig(\"output/Supuesto1 ampliado.png\", bbox_inches = 'tight')\n",
    "plt.show()"
   ]
  },
  {
   "cell_type": "markdown",
   "metadata": {},
   "source": [
    "- En este nuevo supuesto podemos ver que cerca de la mitad de los casos corresponden a nuestro supuesto, hombres de entre 0 y 40 años realizando actividades dentro del agua. Si bien no es concluyente si que muestra una alta incidencia en estos casos."
   ]
  },
  {
   "cell_type": "markdown",
   "metadata": {},
   "source": [
    "## Ahora vamos a comprobar cual de los 2 siguientes casos tiene mayor impacto en los ataques, el género o el prácticar deporte dentro del agua, de manera global."
   ]
  },
  {
   "cell_type": "code",
   "execution_count": 20,
   "metadata": {},
   "outputs": [],
   "source": [
    "analysis4 = df.groupby([\"Genero\"]).Genero.count()"
   ]
  },
  {
   "cell_type": "code",
   "execution_count": 21,
   "metadata": {},
   "outputs": [
    {
     "data": {
      "text/plain": [
       "Genero\n",
       "F     444\n",
       "M    2849\n",
       "Name: Genero, dtype: int64"
      ]
     },
     "execution_count": 21,
     "metadata": {},
     "output_type": "execute_result"
    }
   ],
   "source": [
    "analysis4"
   ]
  },
  {
   "cell_type": "code",
   "execution_count": 130,
   "metadata": {},
   "outputs": [
    {
     "data": {
      "image/png": "[encoded data removed]",
      "text/plain": [
       "<Figure size 360x360 with 1 Axes>"
      ]
     },
     "metadata": {},
     "output_type": "display_data"
    }
   ],
   "source": [
    "labels = [\"F\", \"M\"]\n",
    "fig = plt.figure(figsize=(5, 5))\n",
    "plt.pie(analysis4, labels = labels, autopct=\"%0.1f %%\", radius = 1.5)\n",
    "plt.suptitle(\"Comparativa por género (M - F)\", y = 1.03, fontsize = 16)\n",
    "plt.savefig(\"output/Comparativa por género (M - F).png\", bbox_inches='tight')\n",
    "plt.show()"
   ]
  },
  {
   "cell_type": "markdown",
   "metadata": {},
   "source": [
    "- En este gráfico pordemos ver como el género influye en los ataques de los tiburones"
   ]
  },
  {
   "cell_type": "code",
   "execution_count": 25,
   "metadata": {},
   "outputs": [],
   "source": [
    "analysis5 = df.groupby([\"Actividad\"]).Actividad.count()"
   ]
  },
  {
   "cell_type": "code",
   "execution_count": 26,
   "metadata": {},
   "outputs": [
    {
     "data": {
      "text/plain": [
       "Actividad\n",
       "IN WATER    2092\n",
       "OTHER       1201\n",
       "Name: Actividad, dtype: int64"
      ]
     },
     "execution_count": 26,
     "metadata": {},
     "output_type": "execute_result"
    }
   ],
   "source": [
    "analysis5"
   ]
  },
  {
   "cell_type": "code",
   "execution_count": 129,
   "metadata": {},
   "outputs": [
    {
     "data": {
      "image/png": "[encoded data removed]",
      "text/plain": [
       "<Figure size 360x360 with 1 Axes>"
      ]
     },
     "metadata": {},
     "output_type": "display_data"
    }
   ],
   "source": [
    "labels = [\"IN WATER\", \"OTHER\"]\n",
    "fig = plt.subplots(figsize=(5, 5))\n",
    "plt.pie(analysis5, labels = labels, autopct=\"%0.1f %%\", radius = 1.5)\n",
    "plt.suptitle(\"Comparativa Actividad dentro-fuera del agua\", y = 1.1, fontsize = 16)\n",
    "plt.savefig(\"output/Comparativa Actividad dentro-fuera del agua.png\", bbox_inches='tight')\n",
    "plt.show()"
   ]
  },
  {
   "cell_type": "markdown",
   "metadata": {},
   "source": [
    "- En este gráfico podemos ver que el realizar actividades deportivas en el agua aumenta el riesgo de un ataque, como es lógico."
   ]
  },
  {
   "cell_type": "markdown",
   "metadata": {},
   "source": [
    "## Por último, vamos a analizar como se producen los ataques de tiburón por los rangos de edad definidos previamente."
   ]
  },
  {
   "cell_type": "code",
   "execution_count": 42,
   "metadata": {},
   "outputs": [
    {
     "data": {
      "text/plain": [
       "Rango_edad\n",
       "ADULTO           1509\n",
       "ANCIANO            67\n",
       "AVANZADA EDAD     133\n",
       "JOVEN            1042\n",
       "MEDIANA EDAD      542\n",
       "Name: Rango_edad, dtype: int64"
      ]
     },
     "execution_count": 42,
     "metadata": {},
     "output_type": "execute_result"
    }
   ],
   "source": [
    "analysis6 = df.groupby([\"Rango_edad\"]).Rango_edad.count()\n",
    "analysis6"
   ]
  },
  {
   "cell_type": "code",
   "execution_count": 43,
   "metadata": {},
   "outputs": [],
   "source": [
    "val_y = (dict(enumerate(analysis6)))\n",
    "y = [val_y[3], val_y[0], val_y[4], val_y[2], val_y[1]]"
   ]
  },
  {
   "cell_type": "code",
   "execution_count": 133,
   "metadata": {},
   "outputs": [
    {
     "data": {
      "image/png": "[encoded data removed]",
      "text/plain": [
       "<Figure size 720x576 with 1 Axes>"
      ]
     },
     "metadata": {
      "needs_background": "light"
     },
     "output_type": "display_data"
    }
   ],
   "source": [
    "rangos = [\"JOVEN\", \"ADULTO\", \"MEDIANA EDAD\", \"AVANZADA EDAD\", \"ANCIANO\"]\n",
    "fig = plt.subplots(figsize=(10, 8))\n",
    "plt.bar(rangos, y, alpha = 0.6)\n",
    "plt.title(\"Comparativa Rangos de Edad\", fontsize = 16)\n",
    "plt.savefig(\"output/Comparativa Rangos de Edad.png\")\n",
    "plt.show()"
   ]
  },
  {
   "cell_type": "code",
   "execution_count": null,
   "metadata": {},
   "outputs": [],
   "source": []
  }
 ],
 "metadata": {
  "kernelspec": {
   "display_name": "Python 3",
   "language": "python",
   "name": "python3"
  },
  "language_info": {
   "codemirror_mode": {
    "name": "ipython",
    "version": 3
   },
   "file_extension": ".py",
   "mimetype": "text/x-python",
   "name": "python",
   "nbconvert_exporter": "python",
   "pygments_lexer": "ipython3",
   "version": "3.7.6"
  }
 },
 "nbformat": 4,
 "nbformat_minor": 4
}
